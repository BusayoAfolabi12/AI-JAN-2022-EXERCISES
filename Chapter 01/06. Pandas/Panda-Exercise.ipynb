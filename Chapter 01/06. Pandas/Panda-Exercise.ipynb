{
 "cells": [
  {
   "cell_type": "markdown",
   "id": "cf26ab5e",
   "metadata": {
    "deletable": false,
    "editable": false,
    "nbgrader": {
     "cell_type": "markdown",
     "checksum": "7647a1330b7d39b9874a93c2dbfe28bc",
     "grade": false,
     "grade_id": "cell-21003a50c1c1852b",
     "locked": true,
     "schema_version": 3,
     "solution": false,
     "task": false
    }
   },
   "source": [
    "# Pandas NBgrader exercises\n",
    "\n",
    "In this notebook you will find the 6 deliverable exercises regarding pandas. This notebook is autograded so please dont modify any cell except to add your solution. Modifying this notebook may result in you not getting a grade."
   ]
  },
  {
   "cell_type": "code",
   "execution_count": 6,
   "id": "7ff03cbd",
   "metadata": {},
   "outputs": [],
   "source": [
    "import pandas as pd\n",
    "import numpy as np"
   ]
  },
  {
   "cell_type": "code",
   "execution_count": 22,
   "id": "21a12243",
   "metadata": {},
   "outputs": [],
   "source": [
    "data = {'animal': ['cat', 'cat', 'snake', 'dog', 'dog', 'cat', 'snake', 'cat', 'dog', 'dog'],\n",
    "        'age': [2.5, 3, 0.5, np.nan, 5, 2, 4.5, np.nan, 7, 3],\n",
    "        'visits': [1, 3, 2, 3, 2, 3, 1, 1, 2, 1],\n",
    "        'priority': ['yes', 'yes', 'no', 'yes', 'no', 'no', 'no', 'yes', 'no', 'no']}\n",
    "\n",
    "labels = ['a', 'b', 'c', 'd', 'e', 'f', 'g', 'h', 'i', 'j']\n",
    "\n",
    "\n",
    "df = pd.DataFrame(data, index=labels)"
   ]
  },
  {
   "cell_type": "markdown",
   "id": "58fb9b78",
   "metadata": {
    "deletable": false,
    "editable": false,
    "nbgrader": {
     "cell_type": "markdown",
     "checksum": "a75bdec57da90efbd30ebd29186b8c93",
     "grade": false,
     "grade_id": "cell-d72b080638835116",
     "locked": true,
     "schema_version": 3,
     "solution": false,
     "task": false
    }
   },
   "source": [
    "**13.** Change the age in row 'f' to 1.5."
   ]
  },
  {
   "cell_type": "code",
   "execution_count": 23,
   "id": "109a33e5",
   "metadata": {
    "deletable": false,
    "nbgrader": {
     "cell_type": "code",
     "checksum": "f9c245dc64614e17fbbd8a84562ef924",
     "grade": false,
     "grade_id": "cell-f8d4a64dd0fb6112",
     "locked": false,
     "schema_version": 3,
     "solution": true,
     "task": false
    }
   },
   "outputs": [],
   "source": [
    "# YOUR CODE HERE\n",
    "df.iat[5,1] = 1.5\n",
    "\n",
    "#raise NotImplementedError()"
   ]
  },
  {
   "cell_type": "code",
   "execution_count": 11,
   "id": "73e90086",
   "metadata": {
    "deletable": false,
    "editable": false,
    "nbgrader": {
     "cell_type": "code",
     "checksum": "1872d896ab61e9e8bb33b32b5019f2b8",
     "grade": true,
     "grade_id": "cell-675b0274a23f22c9",
     "locked": true,
     "points": 1,
     "schema_version": 3,
     "solution": false,
     "task": false
    }
   },
   "outputs": [],
   "source": [
    "assert df['age']['f'] == 1.5"
   ]
  },
  {
   "cell_type": "code",
   "execution_count": 13,
   "id": "f16dbe8c",
   "metadata": {},
   "outputs": [
    {
     "data": {
      "text/plain": [
       "True"
      ]
     },
     "execution_count": 13,
     "metadata": {},
     "output_type": "execute_result"
    }
   ],
   "source": [
    " df['age']['f'] == 1.5"
   ]
  },
  {
   "cell_type": "markdown",
   "id": "7b081c55",
   "metadata": {},
   "source": [
    "**18.** Sort `df` first by the values in the 'age' in *decending* order, then by the value in the 'visit' column in *ascending* order."
   ]
  },
  {
   "cell_type": "code",
   "execution_count": 27,
   "id": "5998447d",
   "metadata": {},
   "outputs": [
    {
     "data": {
      "text/html": [
       "<div>\n",
       "<style scoped>\n",
       "    .dataframe tbody tr th:only-of-type {\n",
       "        vertical-align: middle;\n",
       "    }\n",
       "\n",
       "    .dataframe tbody tr th {\n",
       "        vertical-align: top;\n",
       "    }\n",
       "\n",
       "    .dataframe thead th {\n",
       "        text-align: right;\n",
       "    }\n",
       "</style>\n",
       "<table border=\"1\" class=\"dataframe\">\n",
       "  <thead>\n",
       "    <tr style=\"text-align: right;\">\n",
       "      <th></th>\n",
       "      <th>animal</th>\n",
       "      <th>age</th>\n",
       "      <th>visits</th>\n",
       "      <th>priority</th>\n",
       "    </tr>\n",
       "  </thead>\n",
       "  <tbody>\n",
       "    <tr>\n",
       "      <th>i</th>\n",
       "      <td>dog</td>\n",
       "      <td>7.0</td>\n",
       "      <td>2</td>\n",
       "      <td>no</td>\n",
       "    </tr>\n",
       "    <tr>\n",
       "      <th>e</th>\n",
       "      <td>dog</td>\n",
       "      <td>5.0</td>\n",
       "      <td>2</td>\n",
       "      <td>no</td>\n",
       "    </tr>\n",
       "    <tr>\n",
       "      <th>g</th>\n",
       "      <td>snake</td>\n",
       "      <td>4.5</td>\n",
       "      <td>1</td>\n",
       "      <td>no</td>\n",
       "    </tr>\n",
       "    <tr>\n",
       "      <th>j</th>\n",
       "      <td>dog</td>\n",
       "      <td>3.0</td>\n",
       "      <td>1</td>\n",
       "      <td>no</td>\n",
       "    </tr>\n",
       "    <tr>\n",
       "      <th>b</th>\n",
       "      <td>cat</td>\n",
       "      <td>3.0</td>\n",
       "      <td>3</td>\n",
       "      <td>yes</td>\n",
       "    </tr>\n",
       "    <tr>\n",
       "      <th>a</th>\n",
       "      <td>cat</td>\n",
       "      <td>2.5</td>\n",
       "      <td>1</td>\n",
       "      <td>yes</td>\n",
       "    </tr>\n",
       "    <tr>\n",
       "      <th>f</th>\n",
       "      <td>cat</td>\n",
       "      <td>1.5</td>\n",
       "      <td>3</td>\n",
       "      <td>no</td>\n",
       "    </tr>\n",
       "    <tr>\n",
       "      <th>c</th>\n",
       "      <td>snake</td>\n",
       "      <td>0.5</td>\n",
       "      <td>2</td>\n",
       "      <td>no</td>\n",
       "    </tr>\n",
       "    <tr>\n",
       "      <th>h</th>\n",
       "      <td>cat</td>\n",
       "      <td>NaN</td>\n",
       "      <td>1</td>\n",
       "      <td>yes</td>\n",
       "    </tr>\n",
       "    <tr>\n",
       "      <th>d</th>\n",
       "      <td>dog</td>\n",
       "      <td>NaN</td>\n",
       "      <td>3</td>\n",
       "      <td>yes</td>\n",
       "    </tr>\n",
       "  </tbody>\n",
       "</table>\n",
       "</div>"
      ],
      "text/plain": [
       "  animal  age  visits priority\n",
       "i    dog  7.0       2       no\n",
       "e    dog  5.0       2       no\n",
       "g  snake  4.5       1       no\n",
       "j    dog  3.0       1       no\n",
       "b    cat  3.0       3      yes\n",
       "a    cat  2.5       1      yes\n",
       "f    cat  1.5       3       no\n",
       "c  snake  0.5       2       no\n",
       "h    cat  NaN       1      yes\n",
       "d    dog  NaN       3      yes"
      ]
     },
     "execution_count": 27,
     "metadata": {},
     "output_type": "execute_result"
    }
   ],
   "source": [
    " df.sort_values(by=['age', 'visits'], ascending=[False, True])\n"
   ]
  },
  {
   "cell_type": "code",
   "execution_count": 69,
   "id": "513ddcc9",
   "metadata": {
    "deletable": false,
    "nbgrader": {
     "cell_type": "code",
     "checksum": "80f41c23d8711123bdb2f978e342c0cd",
     "grade": false,
     "grade_id": "cell-bb44e438722da485",
     "locked": false,
     "schema_version": 3,
     "solution": true,
     "task": false
    }
   },
   "outputs": [
    {
     "name": "stdout",
     "output_type": "stream",
     "text": [
      "  animal  age  visits priority\n",
      "i    dog  7.0       2       no\n",
      "e    dog  5.0       2       no\n",
      "g  snake  4.5       1       no\n",
      "b    cat  3.0       3      yes\n",
      "j    dog  3.0       1       no\n",
      "a    cat  2.5       1      yes\n",
      "f    cat  2.0       3       no\n",
      "c  snake  0.5       2       no\n",
      "d    dog  NaN       3      yes\n",
      "h    cat  NaN       1      yes\n",
      "  animal  age  visits priority\n",
      "a    cat  2.5       1      yes\n",
      "g  snake  4.5       1       no\n",
      "h    cat  NaN       1      yes\n",
      "j    dog  3.0       1       no\n",
      "c  snake  0.5       2       no\n",
      "e    dog  5.0       2       no\n",
      "i    dog  7.0       2       no\n",
      "b    cat  3.0       3      yes\n",
      "d    dog  NaN       3      yes\n",
      "f    cat  2.0       3       no\n"
     ]
    }
   ],
   "source": [
    "# YOUR CODE HERE\n",
    "\n",
    "\n",
    "sort_by_age = df.sort_values(by='age', ascending=False)\n",
    "\n",
    "sort_by_visits = df.sort_values(by='visits', ascending=True)\n",
    "\n",
    "print(sort_by_age)\n",
    "print(sort_by_visits)\n",
    "\n",
    "\n",
    "\n",
    "\n",
    "#raise NotImplementedError()"
   ]
  },
  {
   "cell_type": "code",
   "execution_count": 71,
   "id": "c214a859",
   "metadata": {
    "deletable": false,
    "editable": false,
    "nbgrader": {
     "cell_type": "code",
     "checksum": "c65748c54cbb70790a984f67b8782e9d",
     "grade": true,
     "grade_id": "cell-9fa22615a21cf3f1",
     "locked": true,
     "points": 1,
     "schema_version": 3,
     "solution": false,
     "task": false
    }
   },
   "outputs": [
    {
     "ename": "AssertionError",
     "evalue": "",
     "output_type": "error",
     "traceback": [
      "\u001b[1;31m---------------------------------------------------------------------------\u001b[0m",
      "\u001b[1;31mAssertionError\u001b[0m                            Traceback (most recent call last)",
      "Input \u001b[1;32mIn [71]\u001b[0m, in \u001b[0;36m<module>\u001b[1;34m\u001b[0m\n\u001b[0;32m      4\u001b[0m         b \u001b[38;5;241m=\u001b[39m \u001b[38;5;28;01mFalse\u001b[39;00m\n\u001b[0;32m      5\u001b[0m         \u001b[38;5;28;01mbreak\u001b[39;00m\n\u001b[1;32m----> 7\u001b[0m \u001b[38;5;28;01massert\u001b[39;00m b\n",
      "\u001b[1;31mAssertionError\u001b[0m: "
     ]
    }
   ],
   "source": [
    "b = True\n",
    "for i in range(df.shape[0]-1):\n",
    "    if df['age'].values[i] < df['age'].values[i+1]:\n",
    "        b = False\n",
    "        break\n",
    "    \n",
    "assert b\n",
    "    "
   ]
  },
  {
   "cell_type": "markdown",
   "id": "44323c46",
   "metadata": {},
   "source": [
    "**23.** Given a DataFrame of numeric values, say\n",
    "```python\n",
    "df = pd.DataFrame(np.random.random(size=(5, 3))) # a 5x3 frame of float values\n",
    "```\n",
    "\n",
    "how do you subtract the row mean from each element in the row?"
   ]
  },
  {
   "cell_type": "code",
   "execution_count": 80,
   "id": "f8f543b2",
   "metadata": {
    "deletable": false,
    "nbgrader": {
     "cell_type": "code",
     "checksum": "9ea2abdeafe9a27a3b5c6e01bb58d8a0",
     "grade": false,
     "grade_id": "cell-5137285459670e80",
     "locked": false,
     "schema_version": 3,
     "solution": true,
     "task": false
    }
   },
   "outputs": [
    {
     "name": "stdout",
     "output_type": "stream",
     "text": [
      "          0         1         2\n",
      "0  0.469664 -0.216384 -0.253279\n",
      "1  0.332338 -0.157193 -0.175145\n",
      "2  0.230351 -0.125177 -0.105174\n",
      "3 -0.398799  0.320243  0.078556\n",
      "4  0.064535  0.143608 -0.208143\n"
     ]
    }
   ],
   "source": [
    "# YOUR CODE HERE\n",
    "\n",
    "df = pd.DataFrame(np.random.random(size=(5, 3)))\n",
    "\n",
    "x = df[0:1:1]\n",
    "\n",
    "mean_of_row = df.mean(axis=1)\n",
    "\n",
    "sub_row = df.sub(df.mean(axis=1), axis=0)\n",
    "\n",
    "print(sub_row)\n",
    "\n",
    "#raise NotImplementedError()"
   ]
  },
  {
   "cell_type": "code",
   "execution_count": 79,
   "id": "17b47bf1",
   "metadata": {
    "deletable": false,
    "editable": false,
    "nbgrader": {
     "cell_type": "code",
     "checksum": "f90e767793f0b8bb939565a5a3c4e4fb",
     "grade": true,
     "grade_id": "cell-8ceb24481d7d7a28",
     "locked": true,
     "points": 2,
     "schema_version": 3,
     "solution": false,
     "task": false
    }
   },
   "outputs": [],
   "source": [
    "assert df.shape == (5,3)\n",
    "assert df[0].max() <= 1\n",
    "assert df[0].min() >= -1"
   ]
  },
  {
   "cell_type": "markdown",
   "id": "9997b0e4",
   "metadata": {},
   "source": [
    "**24.** Suppose you have DataFrame with 10 columns of real numbers, for example:\n",
    "\n",
    "```python\n",
    "df = pd.DataFrame(np.random.random(size=(5, 10)), columns=list('abcdefghij'))\n",
    "```\n",
    "Which column of numbers has the smallest sum? (Find that column's label.)"
   ]
  },
  {
   "cell_type": "code",
   "execution_count": 4,
   "id": "49be51c9",
   "metadata": {
    "deletable": false,
    "nbgrader": {
     "cell_type": "code",
     "checksum": "6ab6fa19a5253c63280eb71adfebf362",
     "grade": false,
     "grade_id": "cell-7830a1e1958310b9",
     "locked": false,
     "schema_version": 3,
     "solution": true,
     "task": false
    }
   },
   "outputs": [
    {
     "name": "stdout",
     "output_type": "stream",
     "text": [
      "          a         b         c         d         e         f         g  \\\n",
      "0  0.017471  0.417575  0.567069  0.542783  0.876653  0.344298  0.664328   \n",
      "1  0.858612  0.955016  0.961360  0.985799  0.503366  0.205576  0.340706   \n",
      "2  0.856968  0.847458  0.108172  0.459959  0.291360  0.273126  0.639259   \n",
      "3  0.530838  0.068789  0.817730  0.187435  0.328777  0.164722  0.301983   \n",
      "4  0.449448  0.474040  0.978213  0.104504  0.500075  0.907536  0.465656   \n",
      "\n",
      "          h         i         j  \n",
      "0  0.832216  0.917888  0.473744  \n",
      "1  0.078474  0.827944  0.010674  \n",
      "2  0.000129  0.955033  0.028327  \n",
      "3  0.158852  0.364228  0.709283  \n",
      "4  0.190890  0.005683  0.796907  \n",
      "1.2605593528808374\n"
     ]
    }
   ],
   "source": [
    "# YOUR CODE HERE\n",
    "\n",
    "df = pd.DataFrame(np.random.random(size=(5, 10)), columns=list('abcdefghij'))\n",
    "\n",
    "print(df)\n",
    "\n",
    "sum_column = df.sum(axis=0)\n",
    "\n",
    "c = sum_column.min()\n",
    "    \n",
    "\n",
    "print(c)\n",
    "\n",
    "\n",
    "\n",
    "\n",
    "\n",
    "\n",
    "\n",
    "#raise NotImplementedError()"
   ]
  },
  {
   "cell_type": "code",
   "execution_count": null,
   "id": "da754e27",
   "metadata": {
    "deletable": false,
    "editable": false,
    "nbgrader": {
     "cell_type": "code",
     "checksum": "87fb1864d1694cfcc986ee256197c725",
     "grade": true,
     "grade_id": "cell-a0daad4562804d2a",
     "locked": true,
     "points": 2,
     "schema_version": 3,
     "solution": false,
     "task": false
    }
   },
   "outputs": [],
   "source": [
    "assert idx in 'abcdefghij'"
   ]
  },
  {
   "cell_type": "markdown",
   "id": "0f5ad376",
   "metadata": {},
   "source": [
    "The next three puzzles are slightly harder...\n",
    "\n",
    "**26.** You have a DataFrame that consists of 10 columns of floating--point numbers. Suppose that exactly 5 entries in each row are NaN values. For each row of the DataFrame, find the *column* which contains the *third* NaN value.\n",
    "\n",
    "(You should return a Series of column labels.)"
   ]
  },
  {
   "cell_type": "code",
   "execution_count": null,
   "id": "aed38335",
   "metadata": {
    "deletable": false,
    "nbgrader": {
     "cell_type": "code",
     "checksum": "f9b4c483a0a3d7ad33e1de0a45630896",
     "grade": false,
     "grade_id": "cell-e4f640a69590b406",
     "locked": false,
     "schema_version": 3,
     "solution": true,
     "task": false
    }
   },
   "outputs": [],
   "source": [
    "# YOUR CODE HERE\n",
    "raise NotImplementedError()"
   ]
  },
  {
   "cell_type": "code",
   "execution_count": null,
   "id": "391018d1",
   "metadata": {
    "deletable": false,
    "editable": false,
    "nbgrader": {
     "cell_type": "code",
     "checksum": "fa80dfc4b3777b1a7c41b5ba1c03d280",
     "grade": true,
     "grade_id": "cell-182477a2beb50458",
     "locked": true,
     "points": 3,
     "schema_version": 3,
     "solution": false,
     "task": false
    }
   },
   "outputs": [],
   "source": [
    "assert indexes == [3, 8, 5, 6, 8]\n",
    "assert res.shape == (5,)\n",
    "assert list(res.values) == [3, 8, 5, 6, 8]"
   ]
  },
  {
   "cell_type": "markdown",
   "id": "3d5ac1b1",
   "metadata": {},
   "source": [
    "**27.** A DataFrame has a column of groups 'grps' and and column of numbers 'vals'. For example: \n",
    "\n",
    "```python\n",
    "df = pd.DataFrame({'grps': list('aaabbcaabcccbbc'), \n",
    "                   'vals': [12,345,3,1,45,14,4,52,54,23,235,21,57,3,87]})\n",
    "```\n",
    "For each *group*, find the sum of the three greatest values."
   ]
  },
  {
   "cell_type": "code",
   "execution_count": null,
   "id": "25177de1",
   "metadata": {
    "deletable": false,
    "nbgrader": {
     "cell_type": "code",
     "checksum": "26ce40c0d6394d3cc9069647f6e357b1",
     "grade": false,
     "grade_id": "cell-da30c3e27df05854",
     "locked": false,
     "schema_version": 3,
     "solution": true,
     "task": false
    }
   },
   "outputs": [],
   "source": [
    "# YOUR CODE HERE\n",
    "raise NotImplementedError()"
   ]
  },
  {
   "cell_type": "code",
   "execution_count": null,
   "id": "f3775db4",
   "metadata": {
    "deletable": false,
    "editable": false,
    "nbgrader": {
     "cell_type": "code",
     "checksum": "a7aa37ae096816ec65ce29051a3effe0",
     "grade": true,
     "grade_id": "cell-dd5c34897ebaa573",
     "locked": true,
     "points": 3,
     "schema_version": 3,
     "solution": false,
     "task": false
    }
   },
   "outputs": [],
   "source": [
    "assert res.values[0] == 409\n",
    "assert res.values[1] == 156\n",
    "assert res.values[2] == 345"
   ]
  }
 ],
 "metadata": {
  "interpreter": {
   "hash": "511f5f779e2631a2a5ab62f662bac40efa98ba034f0a10d52d91aa76b4930c87"
  },
  "kernelspec": {
   "display_name": "Python 3.8.8 64-bit ('NLP': conda)",
   "language": "python",
   "name": "python3"
  },
  "language_info": {
   "codemirror_mode": {
    "name": "ipython",
    "version": 3
   },
   "file_extension": ".py",
   "mimetype": "text/x-python",
   "name": "python",
   "nbconvert_exporter": "python",
   "pygments_lexer": "ipython3",
   "version": "3.8.12"
  }
 },
 "nbformat": 4,
 "nbformat_minor": 5
}
