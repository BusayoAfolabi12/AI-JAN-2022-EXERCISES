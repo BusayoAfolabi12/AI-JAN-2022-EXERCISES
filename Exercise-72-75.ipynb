{
 "cells": [
  {
   "cell_type": "code",
   "execution_count": 2,
   "metadata": {},
   "outputs": [],
   "source": [
    "import numpy as np\n"
   ]
  },
  {
   "cell_type": "code",
   "execution_count": null,
   "metadata": {},
   "outputs": [],
   "source": [
    "x = np.array([[1, 2, 3], [5, 6, 7]])\n",
    "x[[0,1]] = x[[1,0]]\n",
    "x"
   ]
  },
  {
   "cell_type": "code",
   "execution_count": null,
   "metadata": {},
   "outputs": [],
   "source": [
    "x = np.array[5, 6, 7]\n",
    "0"
   ]
  }
 ],
 "metadata": {
  "interpreter": {
   "hash": "511f5f779e2631a2a5ab62f662bac40efa98ba034f0a10d52d91aa76b4930c87"
  },
  "kernelspec": {
   "display_name": "Python 3.8.12 64-bit ('Strivenew': conda)",
   "language": "python",
   "name": "python3"
  },
  "language_info": {
   "codemirror_mode": {
    "name": "ipython",
    "version": 3
   },
   "file_extension": ".py",
   "mimetype": "text/x-python",
   "name": "python",
   "nbconvert_exporter": "python",
   "pygments_lexer": "ipython3",
   "version": "3.8.12"
  },
  "orig_nbformat": 4
 },
 "nbformat": 4,
 "nbformat_minor": 2
}
