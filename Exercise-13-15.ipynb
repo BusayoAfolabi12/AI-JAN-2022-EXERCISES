{
 "cells": [
  {
   "cell_type": "code",
   "execution_count": 2,
   "metadata": {},
   "outputs": [],
   "source": [
    "import numpy as np\n",
    "\n"
   ]
  },
  {
   "cell_type": "code",
   "execution_count": 4,
   "metadata": {},
   "outputs": [
    {
     "name": "stdout",
     "output_type": "stream",
     "text": [
      "0.004693021292368704\n",
      "0.9957823140194623\n"
     ]
    }
   ],
   "source": [
    "random = np.random.rand(10, 10)\n",
    "\n",
    "rand_min = np.min(random)\n",
    "rand_max = np.max(random)\n",
    "print(rand_min)\n",
    "print(rand_max)"
   ]
  },
  {
   "cell_type": "code",
   "execution_count": 5,
   "metadata": {},
   "outputs": [
    {
     "name": "stdout",
     "output_type": "stream",
     "text": [
      "[[1. 1. 1. 1. 1. 1.]\n",
      " [1. 0. 0. 0. 0. 1.]\n",
      " [1. 0. 0. 0. 0. 1.]\n",
      " [1. 0. 0. 0. 0. 1.]\n",
      " [1. 0. 0. 0. 0. 1.]\n",
      " [1. 1. 1. 1. 1. 1.]]\n"
     ]
    }
   ],
   "source": [
    "a = np.ones((6,6))\n",
    "a[1:-1, 1:-1] = 0\n",
    "print(a)\n"
   ]
  }
 ],
 "metadata": {
  "interpreter": {
   "hash": "511f5f779e2631a2a5ab62f662bac40efa98ba034f0a10d52d91aa76b4930c87"
  },
  "kernelspec": {
   "display_name": "Python 3.8.12 64-bit ('Strivenew': conda)",
   "language": "python",
   "name": "python3"
  },
  "language_info": {
   "codemirror_mode": {
    "name": "ipython",
    "version": 3
   },
   "file_extension": ".py",
   "mimetype": "text/x-python",
   "name": "python",
   "nbconvert_exporter": "python",
   "pygments_lexer": "ipython3",
   "version": "3.8.12"
  },
  "orig_nbformat": 4
 },
 "nbformat": 4,
 "nbformat_minor": 2
}
