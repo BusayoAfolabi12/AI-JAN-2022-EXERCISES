{
 "cells": [
  {
   "cell_type": "markdown",
   "metadata": {},
   "source": []
  },
  {
   "cell_type": "code",
   "execution_count": null,
   "metadata": {},
   "outputs": [],
   "source": []
  },
  {
   "cell_type": "code",
   "execution_count": 25,
   "metadata": {},
   "outputs": [
    {
     "name": "stdout",
     "output_type": "stream",
     "text": [
      "<Response [200]>\n"
     ]
    }
   ],
   "source": [
    "import requests\n",
    "from bs4 import BeautifulSoup\n",
    "page = requests.get(\"https://forecast.weather.gov/MapClick.php?x=276&y=148&site=lox&zmx=&zmy=&map_x=276&map_y=148#.YgEoUdXMLIU\")\n",
    "print(page)"
   ]
  },
  {
   "cell_type": "code",
   "execution_count": 26,
   "metadata": {},
   "outputs": [],
   "source": [
    "soup = BeautifulSoup(page.content, 'html.parser')\n",
    "div = soup.find_all('div', id = 'detailed-forecast-body')"
   ]
  },
  {
   "cell_type": "code",
   "execution_count": 27,
   "metadata": {},
   "outputs": [
    {
     "name": "stdout",
     "output_type": "stream",
     "text": [
      "Today\n",
      "Tonight\n",
      "Tuesday\n",
      "Tuesday Night\n",
      "Wednesday\n",
      "Wednesday Night\n",
      "Thursday\n",
      "Thursday Night\n",
      "Friday\n",
      "Friday Night\n",
      "Saturday\n",
      "Saturday Night\n",
      "Sunday\n"
     ]
    }
   ],
   "source": [
    "divs = div[0].find_all('div', class_ = 'col-sm-2 forecast-label')\n",
    "for days in divs:\n",
    "    print(days.text)"
   ]
  },
  {
   "cell_type": "code",
   "execution_count": 28,
   "metadata": {},
   "outputs": [
    {
     "name": "stdout",
     "output_type": "stream",
     "text": [
      "2022-02-07 2022-02-08 2022-02-09 2022-02-10 2022-02-11\n"
     ]
    }
   ],
   "source": [
    "import datetime\n",
    "from datetime import date\n",
    "\n",
    "today = date.today()\n",
    "\n",
    "\n",
    "Monday = date.today()\n",
    "Tuesday = today + datetime.timedelta(days=1)\n",
    "Wednesday = today + datetime.timedelta(days=2)\n",
    "Thursday = today + datetime.timedelta(days=3)\n",
    "Friday = today + datetime.timedelta(days=4)\n",
    "\n",
    "print( Monday, Tuesday, Wednesday, Thursday, Friday)"
   ]
  },
  {
   "cell_type": "code",
   "execution_count": 29,
   "metadata": {},
   "outputs": [
    {
     "name": "stdout",
     "output_type": "stream",
     "text": [
      "Sunny, with a high near 80. Northeast wind around 5 mph becoming west in the afternoon. \n",
      "Mostly clear, with a low around 52. Northeast wind around 5 mph. \n",
      "Sunny, with a high near 78. Northeast wind around 10 mph becoming west northwest in the afternoon. \n",
      "Mostly clear, with a low around 54. North northwest wind 10 to 15 mph becoming northeast after midnight. \n",
      "Sunny, with a high near 86. North northeast wind around 10 mph becoming west northwest in the afternoon. Winds could gust as high as 15 mph. \n",
      "Mostly clear, with a low around 55.\n",
      "Sunny, with a high near 88.\n",
      "Clear, with a low around 56.\n",
      "Sunny, with a high near 85.\n",
      "Mostly clear, with a low around 55.\n",
      "Sunny, with a high near 85.\n",
      "Mostly clear, with a low around 54.\n",
      "Sunny, with a high near 83.\n"
     ]
    }
   ],
   "source": [
    "divs = div[0].find_all('div', class_ = 'col-sm-10 forecast-text')\n",
    "for forecast in divs:\n",
    "    print(forecast.text)"
   ]
  },
  {
   "cell_type": "code",
   "execution_count": null,
   "metadata": {},
   "outputs": [],
   "source": []
  },
  {
   "cell_type": "code",
   "execution_count": 30,
   "metadata": {},
   "outputs": [],
   "source": [
    "div2 = soup.find_all('div', id = 'seven-day-forecast-container')"
   ]
  },
  {
   "cell_type": "code",
   "execution_count": 35,
   "metadata": {},
   "outputs": [
    {
     "name": "stdout",
     "output_type": "stream",
     "text": [
      "High: 80 °F\n",
      "Low: 52 °F\n",
      "High: 78 °F\n",
      "Low: 54 °F\n",
      "High: 86 °F\n",
      "Low: 55 °F\n",
      "High: 88 °F\n",
      "Low: 56 °F\n",
      "56\n"
     ]
    }
   ],
   "source": [
    "divs = div2[0].find_all('p', class_ = 'temp')\n",
    "for p in divs:\n",
    "    print(p.get_text())\n",
    "\n",
    "print(p.get_text().split()[1])"
   ]
  },
  {
   "cell_type": "code",
   "execution_count": 32,
   "metadata": {},
   "outputs": [
    {
     "name": "stdout",
     "output_type": "stream",
     "text": [
      "26.666666666666664\n"
     ]
    }
   ],
   "source": [
    "def celsius(temp):\n",
    "    cels = (temp-32)/1.8\n",
    "    return cels\n",
    "\n",
    "\n",
    "print(celsius(80))\n"
   ]
  }
 ],
 "metadata": {
  "interpreter": {
   "hash": "3ef13ed475499759d50b572fc21d72ea61b0374d098be71f05d3278c3ed3dea2"
  },
  "kernelspec": {
   "display_name": "Python 3.8.12 ('strive')",
   "language": "python",
   "name": "python3"
  },
  "language_info": {
   "codemirror_mode": {
    "name": "ipython",
    "version": 3
   },
   "file_extension": ".py",
   "mimetype": "text/x-python",
   "name": "python",
   "nbconvert_exporter": "python",
   "pygments_lexer": "ipython3",
   "version": "3.8.12"
  },
  "orig_nbformat": 4
 },
 "nbformat": 4,
 "nbformat_minor": 2
}
