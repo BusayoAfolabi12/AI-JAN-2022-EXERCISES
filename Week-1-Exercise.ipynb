{
 "cells": [
  {
   "cell_type": "markdown",
   "metadata": {},
   "source": [
    "**Exercise 5.2:** Write and test three functions that return the largest, the smallest, and the number of dividables by 3 in a given collection of numbers. Use the algorithm described earlier in the Part 5 lecture :)"
   ]
  },
  {
   "cell_type": "code",
   "execution_count": 2,
   "metadata": {},
   "outputs": [
    {
     "name": "stdout",
     "output_type": "stream",
     "text": [
      "100\n",
      "2\n",
      "6\n",
      "12\n",
      "15\n",
      "99\n"
     ]
    }
   ],
   "source": [
    "\n",
    "num_col = [2, 4, 6, 8, 12, 15, 99, 100]\n",
    "\n",
    "# A function that returns the largest number from the list num_col\n",
    "def largest_num():\n",
    "    for list in num_col:\n",
    "        x = max(num_col)\n",
    "        print(x)\n",
    "        return\n",
    "largest_num()\n",
    "\n",
    "# A function that returns the smallest number from the list num_col\n",
    "def smallest_num():\n",
    "    for list in num_col:\n",
    "        x = min(num_col)\n",
    "        print(x)\n",
    "        return\n",
    "smallest_num()\n",
    "\n",
    "# A function that return numbers divisible by 3 from the list num_col\n",
    "def divisible_by_3():\n",
    "    for list in num_col:\n",
    "        if list%3 == 0:\n",
    "            print(list)\n",
    "    return\n",
    "divisible_by_3()\n",
    "\n"
   ]
  },
  {
   "cell_type": "markdown",
   "source": [
    "Exercise 5.8 (?️): A, B, C, and D are all different digits. The number DCBA is equal to 4 times the number ABCD. What are the digits? Note: to make ABCD and DCBA conventional numbers, neither A nor D can be zero. Use a quadruple-nested loop."
   ],
   "metadata": {
    "collapsed": false
   }
  },
  {
   "cell_type": "code",
   "execution_count": 1,
   "outputs": [
    {
     "name": "stdout",
     "output_type": "stream",
     "text": [
      "A = 2\n",
      "B = 1\n",
      "C = 7\n",
      "D = 8\n"
     ]
    }
   ],
   "source": [
    "#Your Code Here\n",
    "# To Solve 4*ABCD == DCBA for (A and D) != 0\n",
    "\n",
    "def nested_nest():\n",
    "\n",
    "    for a in range(1,9):\n",
    "        for b in range(0,9):\n",
    "            for c in range(0,9):\n",
    "               for d in range(1,9):\n",
    "                   if 4* (1000 * a + 100 * b + 10 * c + 1 * d) == \\\n",
    "                      (a + 10 * b + 100 * c + 1000 * d):\n",
    "                       print ('A =', a)\n",
    "                       print ('B =', b)\n",
    "                       print ('C =', c)\n",
    "                       print ('D =', d)\n",
    "                       return\n",
    "\n",
    "nested_nest()"
   ],
   "metadata": {
    "collapsed": false,
    "pycharm": {
     "name": "#%%\n"
    }
   }
  },
  {
   "cell_type": "markdown",
   "source": [
    "Exercise 6.3: In the text below, count how often the word “wood” occurs (using program code, of course). Capitals and lower case letters may both be used, and you have to consider that the word “wood” should be a separate word, and not part of another word. Hint: If you did the exercises from this chapter, you already developed a function that “cleans” a text. Combining that function with the split() function more or less solves the problem for you."
   ],
   "metadata": {
    "collapsed": false
   }
  },
  {
   "cell_type": "code",
   "execution_count": 3,
   "outputs": [
    {
     "name": "stdout",
     "output_type": "stream",
     "text": [
      "3\n"
     ]
    }
   ],
   "source": [
    "# Counting wood.\n",
    "text = \"\"\"How much wood would a woodchuck chuck\n",
    "If a woodchuck could chuck wood?\n",
    "He would chuck, he would, as much as he could,\n",
    "And chuck as much as a woodchuck would\n",
    "If a Mr. Smith could chuck wood\\n\\r\\t.\"\"\"\n",
    "text = text.replace(\"\\n\",\" \")\n",
    "text = text.replace(\"\\r\",\"\")\n",
    "text = text.replace(\"\\t\",\"\")\n",
    "text = text.replace(\"?\",\" \")\n",
    "text = text.replace(\".\",\"\")\n",
    "text = text.replace(\",\",\"\")\n",
    "text = text.lower()\n",
    "new_text = text.split()\n",
    "\n",
    "def wood_counter(new_text):\n",
    "    print(new_text.count(\"wood\"))\n",
    "\n",
    "wood_counter(new_text)"
   ],
   "metadata": {
    "collapsed": false,
    "pycharm": {
     "name": "#%%\n"
    }
   }
  },
  {
   "cell_type": "code",
   "execution_count": null,
   "outputs": [],
   "source": [],
   "metadata": {
    "collapsed": false,
    "pycharm": {
     "name": "#%%\n"
    }
   }
  }
 ],
 "metadata": {
  "kernelspec": {
   "display_name": "Python 3",
   "language": "python",
   "name": "python3"
  },
  "language_info": {
   "codemirror_mode": {
    "name": "ipython",
    "version": 3
   },
   "file_extension": ".py",
   "mimetype": "text/x-python",
   "name": "python",
   "nbconvert_exporter": "python",
   "pygments_lexer": "ipython3",
   "version": "3.8.3"
  }
 },
 "nbformat": 4,
 "nbformat_minor": 4
}