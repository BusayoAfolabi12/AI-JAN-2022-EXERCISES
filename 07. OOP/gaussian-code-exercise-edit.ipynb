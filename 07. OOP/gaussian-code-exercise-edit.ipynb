{
 "cells": [
  {
   "cell_type": "markdown",
   "metadata": {},
   "source": [
    "import numpy as np\n",
    "import math\n",
    "import matplotlib.pyplot as plt"
   ]
  },
  {
   "cell_type": "code",
   "execution_count": 4,
   "metadata": {},
   "outputs": [],
   "source": [
    "import numpy as np\n",
    "import math\n"
   ]
  },
  {
   "cell_type": "code",
   "execution_count": 7,
   "metadata": {},
   "outputs": [],
   "source": [
    "\n",
    "\n",
    "\n",
    "class Number_Group:\n",
    "\n",
    "    def __init__(self,list):\n",
    "        self.list = list\n",
    "\n",
    "    def divisible_by_3(self):\n",
    "        \n",
    "        for i in self.list:\n",
    "            if i == max(self.list):\n",
    "                print(f'the largest munber is', i)\n",
    "            elif i== min(self.list):\n",
    "                print(f'the minimum munber is', i)\n",
    "\n",
    "            elif i%3 == 0:\n",
    "                print(i, 'is divisible by 3')\n",
    "\n",
    "        return\n",
    "\n",
    "\n",
    "\n",
    "            \n",
    "\n",
    "\n",
    "\n",
    "\n",
    "\n",
    "\n"
   ]
  },
  {
   "cell_type": "code",
   "execution_count": 8,
   "metadata": {},
   "outputs": [],
   "source": [
    "a = Number_Group(list = [2, 4, 6, 8, 12, 15, 99, 100]\n",
    ")"
   ]
  },
  {
   "cell_type": "code",
   "execution_count": 10,
   "metadata": {},
   "outputs": [
    {
     "name": "stdout",
     "output_type": "stream",
     "text": [
      "the minimum munber is 2\n",
      "6 is divisible by 3\n",
      "12 is divisible by 3\n",
      "15 is divisible by 3\n",
      "99 is divisible by 3\n",
      "the largest munber is 100\n"
     ]
    }
   ],
   "source": [
    "a.divisible_by_3()"
   ]
  }
 ],
 "metadata": {
  "interpreter": {
   "hash": "511f5f779e2631a2a5ab62f662bac40efa98ba034f0a10d52d91aa76b4930c87"
  },
  "kernelspec": {
   "display_name": "Python 3.8.12 64-bit ('Strivenew': conda)",
   "language": "python",
   "name": "python3"
  },
  "language_info": {
   "codemirror_mode": {
    "name": "ipython",
    "version": 3
   },
   "file_extension": ".py",
   "mimetype": "text/x-python",
   "name": "python",
   "nbconvert_exporter": "python",
   "pygments_lexer": "ipython3",
   "version": "3.8.12"
  },
  "orig_nbformat": 4
 },
 "nbformat": 4,
 "nbformat_minor": 2
}
